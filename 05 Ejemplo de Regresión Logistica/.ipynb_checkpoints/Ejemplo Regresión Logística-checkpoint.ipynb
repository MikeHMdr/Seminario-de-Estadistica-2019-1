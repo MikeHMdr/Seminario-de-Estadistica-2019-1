{
 "cells": [
  {
   "cell_type": "markdown",
   "metadata": {},
   "source": [
    "# Ejemplo de Regresión Logistica"
   ]
  },
  {
   "cell_type": "markdown",
   "metadata": {},
   "source": [
    "## Bibliotecas"
   ]
  },
  {
   "cell_type": "code",
   "execution_count": 1,
   "metadata": {
    "ExecuteTime": {
     "end_time": "2019-02-26T06:42:09.095201Z",
     "start_time": "2019-02-26T06:41:55.225901Z"
    }
   },
   "outputs": [],
   "source": [
    "# Bibliotecas a utilizar \n",
    "import numpy                   as     np                 # Uso de álgebra lineal, funciones vectoriales\n",
    "import pandas                  as     pd                 # Trabajar con DataFrames\n",
    "import matplotlib.pyplot       as     plt                # Para realizar gráficas\n",
    "import seaborn                 as     sns                # Otras funciones para graficar\n",
    "import statsmodels.api         as     sm                 # Modelos estadisticos\n",
    "from   sklearn.linear_model    import LogisticRegression # Función Regresión Logística\n",
    "from   sklearn.metrics         import confusion_matrix   # Función para calcular una matriz de confusión\n",
    "from   sklearn.model_selection import KFold              # Función para realizar K-Fold Cross Validation\n",
    "from   sklearn.model_selection import cross_val_score    # Función para realizar K-Fold-Cross Validation \n",
    "sns.set()"
   ]
  },
  {
   "cell_type": "code",
   "execution_count": 2,
   "metadata": {
    "ExecuteTime": {
     "end_time": "2019-02-26T06:42:09.150201Z",
     "start_time": "2019-02-26T06:42:09.097701Z"
    }
   },
   "outputs": [
    {
     "data": {
      "text/html": [
       "<div>\n",
       "<style scoped>\n",
       "    .dataframe tbody tr th:only-of-type {\n",
       "        vertical-align: middle;\n",
       "    }\n",
       "\n",
       "    .dataframe tbody tr th {\n",
       "        vertical-align: top;\n",
       "    }\n",
       "\n",
       "    .dataframe thead th {\n",
       "        text-align: right;\n",
       "    }\n",
       "</style>\n",
       "<table border=\"1\" class=\"dataframe\">\n",
       "  <thead>\n",
       "    <tr style=\"text-align: right;\">\n",
       "      <th></th>\n",
       "      <th>Sepal_Length</th>\n",
       "      <th>Sepal_Width</th>\n",
       "      <th>Petal_Length</th>\n",
       "      <th>Petal_Width</th>\n",
       "      <th>Species</th>\n",
       "    </tr>\n",
       "  </thead>\n",
       "  <tbody>\n",
       "    <tr>\n",
       "      <th>109</th>\n",
       "      <td>7.2</td>\n",
       "      <td>3.6</td>\n",
       "      <td>6.1</td>\n",
       "      <td>2.5</td>\n",
       "      <td>virginica</td>\n",
       "    </tr>\n",
       "    <tr>\n",
       "      <th>143</th>\n",
       "      <td>6.8</td>\n",
       "      <td>3.2</td>\n",
       "      <td>5.9</td>\n",
       "      <td>2.3</td>\n",
       "      <td>virginica</td>\n",
       "    </tr>\n",
       "    <tr>\n",
       "      <th>31</th>\n",
       "      <td>5.4</td>\n",
       "      <td>3.4</td>\n",
       "      <td>1.5</td>\n",
       "      <td>0.4</td>\n",
       "      <td>setosa</td>\n",
       "    </tr>\n",
       "    <tr>\n",
       "      <th>98</th>\n",
       "      <td>5.1</td>\n",
       "      <td>2.5</td>\n",
       "      <td>3.0</td>\n",
       "      <td>1.1</td>\n",
       "      <td>versicolor</td>\n",
       "    </tr>\n",
       "    <tr>\n",
       "      <th>116</th>\n",
       "      <td>6.5</td>\n",
       "      <td>3.0</td>\n",
       "      <td>5.5</td>\n",
       "      <td>1.8</td>\n",
       "      <td>virginica</td>\n",
       "    </tr>\n",
       "    <tr>\n",
       "      <th>39</th>\n",
       "      <td>5.1</td>\n",
       "      <td>3.4</td>\n",
       "      <td>1.5</td>\n",
       "      <td>0.2</td>\n",
       "      <td>setosa</td>\n",
       "    </tr>\n",
       "    <tr>\n",
       "      <th>114</th>\n",
       "      <td>5.8</td>\n",
       "      <td>2.8</td>\n",
       "      <td>5.1</td>\n",
       "      <td>2.4</td>\n",
       "      <td>virginica</td>\n",
       "    </tr>\n",
       "    <tr>\n",
       "      <th>81</th>\n",
       "      <td>5.5</td>\n",
       "      <td>2.4</td>\n",
       "      <td>3.7</td>\n",
       "      <td>1.0</td>\n",
       "      <td>versicolor</td>\n",
       "    </tr>\n",
       "    <tr>\n",
       "      <th>68</th>\n",
       "      <td>6.2</td>\n",
       "      <td>2.2</td>\n",
       "      <td>4.5</td>\n",
       "      <td>1.5</td>\n",
       "      <td>versicolor</td>\n",
       "    </tr>\n",
       "    <tr>\n",
       "      <th>80</th>\n",
       "      <td>5.5</td>\n",
       "      <td>2.4</td>\n",
       "      <td>3.8</td>\n",
       "      <td>1.1</td>\n",
       "      <td>versicolor</td>\n",
       "    </tr>\n",
       "  </tbody>\n",
       "</table>\n",
       "</div>"
      ],
      "text/plain": [
       "     Sepal_Length  Sepal_Width  Petal_Length  Petal_Width     Species\n",
       "109           7.2          3.6           6.1          2.5   virginica\n",
       "143           6.8          3.2           5.9          2.3   virginica\n",
       "31            5.4          3.4           1.5          0.4      setosa\n",
       "98            5.1          2.5           3.0          1.1  versicolor\n",
       "116           6.5          3.0           5.5          1.8   virginica\n",
       "39            5.1          3.4           1.5          0.2      setosa\n",
       "114           5.8          2.8           5.1          2.4   virginica\n",
       "81            5.5          2.4           3.7          1.0  versicolor\n",
       "68            6.2          2.2           4.5          1.5  versicolor\n",
       "80            5.5          2.4           3.8          1.1  versicolor"
      ]
     },
     "execution_count": 2,
     "metadata": {},
     "output_type": "execute_result"
    }
   ],
   "source": [
    "# Leemos nuestros archivos \n",
    "datos_iris = pd.read_csv(\"iris.csv\")\n",
    "datos_iris.sample(10)"
   ]
  },
  {
   "cell_type": "code",
   "execution_count": 3,
   "metadata": {
    "ExecuteTime": {
     "end_time": "2019-02-26T06:42:09.167701Z",
     "start_time": "2019-02-26T06:42:09.157701Z"
    }
   },
   "outputs": [
    {
     "data": {
      "text/plain": [
       "array(['setosa', 'versicolor', 'virginica'], dtype=object)"
      ]
     },
     "execution_count": 3,
     "metadata": {},
     "output_type": "execute_result"
    }
   ],
   "source": [
    "# Posibles valores que puede tomar la columna de Species\n",
    "datos_iris[\"Species\"].unique()\n",
    "\n",
    "# Nuestro objetivo es realizar un modelo de clasificación mediante una regresión logística\n",
    "# Inicialmente la regresión logística solo nos ayuda a realizar una clasificación binaria, en este caso tenemos\n",
    "# 3 distintas especies por lo que haremos es asignar 1 a una especia y 0 al resto\n",
    "# Hay maneras de realizar regresión logística para más clases, sin embargo, este es un primer ejemplo"
   ]
  },
  {
   "cell_type": "markdown",
   "metadata": {},
   "source": [
    "## Análisis descriptivo"
   ]
  },
  {
   "cell_type": "code",
   "execution_count": 4,
   "metadata": {
    "ExecuteTime": {
     "end_time": "2019-02-26T06:42:12.548401Z",
     "start_time": "2019-02-26T06:42:09.175201Z"
    },
    "scrolled": false
   },
   "outputs": [
    {
     "name": "stderr",
     "output_type": "stream",
     "text": [
      "C:\\Users\\miguel.hinojosa\\AppData\\Local\\Continuum\\anaconda3\\lib\\site-packages\\scipy\\stats\\stats.py:1713: FutureWarning: Using a non-tuple sequence for multidimensional indexing is deprecated; use `arr[tuple(seq)]` instead of `arr[seq]`. In the future this will be interpreted as an array index, `arr[np.array(seq)]`, which will result either in an error or a different result.\n",
      "  return np.add.reduce(sorted[indexer] * weights, axis=axis) / sumval\n"
     ]
    },
    {
     "name": "stdout",
     "output_type": "stream",
     "text": [
      "<seaborn.axisgrid.PairGrid object at 0x000000000BD0EDD8>\n"
     ]
    },
    {
     "data": {
      "image/png": "[encoded data removed]",
      "text/plain": [
       "<Figure size 806.85x720 with 20 Axes>"
      ]
     },
     "metadata": {
      "needs_background": "light"
     },
     "output_type": "display_data"
    }
   ],
   "source": [
    "# Al trabajar con los datos de iris, no hay mucho que trabjar en esta base de datos pues la matriz de diseño\n",
    "# ya es numérica. Sin embargo, siempre es recomendable, incluso necesario, trabajar la base para realizar analisis\n",
    "# descriptivos. \n",
    "print( sns.pairplot(datos_iris, hue = \"Species\") )"
   ]
  },
  {
   "cell_type": "code",
   "execution_count": 5,
   "metadata": {
    "ExecuteTime": {
     "end_time": "2019-02-26T06:42:12.564001Z",
     "start_time": "2019-02-26T06:42:12.548401Z"
    }
   },
   "outputs": [],
   "source": [
    "# En la grafica anterior, podemos notar que la Specie 'setosa' es muy distinta a las otras 2 species\n",
    "# por lo que si nosotros asignamos 1 a 'setosa' y 0 a las demas, seguramente tendremos una precisión de clasificiacón\n",
    "# bastante alta. Esto no implica que el modelo este sobreajustado.\n",
    "# Por otro lado, si asignamos 1 a 'versicolor' y 0 a las demás, seguramente tendremos una precisión relativamente buena"
   ]
  },
  {
   "cell_type": "markdown",
   "metadata": {},
   "source": [
    "## Preparación de la base de datos "
   ]
  },
  {
   "cell_type": "code",
   "execution_count": 6,
   "metadata": {
    "ExecuteTime": {
     "end_time": "2019-02-26T06:42:12.595201Z",
     "start_time": "2019-02-26T06:42:12.564001Z"
    }
   },
   "outputs": [
    {
     "data": {
      "text/html": [
       "<div>\n",
       "<style scoped>\n",
       "    .dataframe tbody tr th:only-of-type {\n",
       "        vertical-align: middle;\n",
       "    }\n",
       "\n",
       "    .dataframe tbody tr th {\n",
       "        vertical-align: top;\n",
       "    }\n",
       "\n",
       "    .dataframe thead th {\n",
       "        text-align: right;\n",
       "    }\n",
       "</style>\n",
       "<table border=\"1\" class=\"dataframe\">\n",
       "  <thead>\n",
       "    <tr style=\"text-align: right;\">\n",
       "      <th></th>\n",
       "      <th>Sepal_Length</th>\n",
       "      <th>Sepal_Width</th>\n",
       "      <th>Petal_Length</th>\n",
       "      <th>Petal_Width</th>\n",
       "      <th>Species</th>\n",
       "      <th>Species2</th>\n",
       "    </tr>\n",
       "  </thead>\n",
       "  <tbody>\n",
       "    <tr>\n",
       "      <th>81</th>\n",
       "      <td>5.5</td>\n",
       "      <td>2.4</td>\n",
       "      <td>3.7</td>\n",
       "      <td>1.0</td>\n",
       "      <td>versicolor</td>\n",
       "      <td>1</td>\n",
       "    </tr>\n",
       "    <tr>\n",
       "      <th>102</th>\n",
       "      <td>7.1</td>\n",
       "      <td>3.0</td>\n",
       "      <td>5.9</td>\n",
       "      <td>2.1</td>\n",
       "      <td>virginica</td>\n",
       "      <td>0</td>\n",
       "    </tr>\n",
       "    <tr>\n",
       "      <th>0</th>\n",
       "      <td>5.1</td>\n",
       "      <td>3.5</td>\n",
       "      <td>1.4</td>\n",
       "      <td>0.2</td>\n",
       "      <td>setosa</td>\n",
       "      <td>0</td>\n",
       "    </tr>\n",
       "    <tr>\n",
       "      <th>124</th>\n",
       "      <td>6.7</td>\n",
       "      <td>3.3</td>\n",
       "      <td>5.7</td>\n",
       "      <td>2.1</td>\n",
       "      <td>virginica</td>\n",
       "      <td>0</td>\n",
       "    </tr>\n",
       "    <tr>\n",
       "      <th>21</th>\n",
       "      <td>5.1</td>\n",
       "      <td>3.7</td>\n",
       "      <td>1.5</td>\n",
       "      <td>0.4</td>\n",
       "      <td>setosa</td>\n",
       "      <td>0</td>\n",
       "    </tr>\n",
       "    <tr>\n",
       "      <th>18</th>\n",
       "      <td>5.7</td>\n",
       "      <td>3.8</td>\n",
       "      <td>1.7</td>\n",
       "      <td>0.3</td>\n",
       "      <td>setosa</td>\n",
       "      <td>0</td>\n",
       "    </tr>\n",
       "    <tr>\n",
       "      <th>37</th>\n",
       "      <td>4.9</td>\n",
       "      <td>3.6</td>\n",
       "      <td>1.4</td>\n",
       "      <td>0.1</td>\n",
       "      <td>setosa</td>\n",
       "      <td>0</td>\n",
       "    </tr>\n",
       "    <tr>\n",
       "      <th>40</th>\n",
       "      <td>5.0</td>\n",
       "      <td>3.5</td>\n",
       "      <td>1.3</td>\n",
       "      <td>0.3</td>\n",
       "      <td>setosa</td>\n",
       "      <td>0</td>\n",
       "    </tr>\n",
       "    <tr>\n",
       "      <th>61</th>\n",
       "      <td>5.9</td>\n",
       "      <td>3.0</td>\n",
       "      <td>4.2</td>\n",
       "      <td>1.5</td>\n",
       "      <td>versicolor</td>\n",
       "      <td>1</td>\n",
       "    </tr>\n",
       "    <tr>\n",
       "      <th>36</th>\n",
       "      <td>5.5</td>\n",
       "      <td>3.5</td>\n",
       "      <td>1.3</td>\n",
       "      <td>0.2</td>\n",
       "      <td>setosa</td>\n",
       "      <td>0</td>\n",
       "    </tr>\n",
       "  </tbody>\n",
       "</table>\n",
       "</div>"
      ],
      "text/plain": [
       "     Sepal_Length  Sepal_Width  Petal_Length  Petal_Width     Species  \\\n",
       "81            5.5          2.4           3.7          1.0  versicolor   \n",
       "102           7.1          3.0           5.9          2.1   virginica   \n",
       "0             5.1          3.5           1.4          0.2      setosa   \n",
       "124           6.7          3.3           5.7          2.1   virginica   \n",
       "21            5.1          3.7           1.5          0.4      setosa   \n",
       "18            5.7          3.8           1.7          0.3      setosa   \n",
       "37            4.9          3.6           1.4          0.1      setosa   \n",
       "40            5.0          3.5           1.3          0.3      setosa   \n",
       "61            5.9          3.0           4.2          1.5  versicolor   \n",
       "36            5.5          3.5           1.3          0.2      setosa   \n",
       "\n",
       "     Species2  \n",
       "81          1  \n",
       "102         0  \n",
       "0           0  \n",
       "124         0  \n",
       "21          0  \n",
       "18          0  \n",
       "37          0  \n",
       "40          0  \n",
       "61          1  \n",
       "36          0  "
      ]
     },
     "execution_count": 6,
     "metadata": {},
     "output_type": "execute_result"
    }
   ],
   "source": [
    "# Creamos una nueva columna donde asiganremos el cambio antes mencionado\n",
    "# La forma de crear la columna es mediante 'List Comprehension', algo muy usual en Python\n",
    "datos_iris[\"Species2\"] = [ 1 if x == 'versicolor' else 0 for x in datos_iris[\"Species\"] ]\n",
    "#datos_iris[\"Species2\"] = [ 1 if x == 'setosa' else 2 if x == 'versicolor' else 3 for x in datos_iris[\"Species\"] ]\n",
    "datos_iris.sample(10)"
   ]
  },
  {
   "cell_type": "code",
   "execution_count": 7,
   "metadata": {
    "ExecuteTime": {
     "end_time": "2019-02-26T06:42:12.615801Z",
     "start_time": "2019-02-26T06:42:12.595201Z"
    }
   },
   "outputs": [
    {
     "data": {
      "text/html": [
       "<div>\n",
       "<style scoped>\n",
       "    .dataframe tbody tr th:only-of-type {\n",
       "        vertical-align: middle;\n",
       "    }\n",
       "\n",
       "    .dataframe tbody tr th {\n",
       "        vertical-align: top;\n",
       "    }\n",
       "\n",
       "    .dataframe thead th {\n",
       "        text-align: right;\n",
       "    }\n",
       "</style>\n",
       "<table border=\"1\" class=\"dataframe\">\n",
       "  <thead>\n",
       "    <tr style=\"text-align: right;\">\n",
       "      <th></th>\n",
       "      <th>Sepal_Length</th>\n",
       "      <th>Sepal_Width</th>\n",
       "      <th>Petal_Length</th>\n",
       "      <th>Petal_Width</th>\n",
       "    </tr>\n",
       "  </thead>\n",
       "  <tbody>\n",
       "    <tr>\n",
       "      <th>0</th>\n",
       "      <td>5.1</td>\n",
       "      <td>3.5</td>\n",
       "      <td>1.4</td>\n",
       "      <td>0.2</td>\n",
       "    </tr>\n",
       "    <tr>\n",
       "      <th>1</th>\n",
       "      <td>4.9</td>\n",
       "      <td>3.0</td>\n",
       "      <td>1.4</td>\n",
       "      <td>0.2</td>\n",
       "    </tr>\n",
       "    <tr>\n",
       "      <th>2</th>\n",
       "      <td>4.7</td>\n",
       "      <td>3.2</td>\n",
       "      <td>1.3</td>\n",
       "      <td>0.2</td>\n",
       "    </tr>\n",
       "    <tr>\n",
       "      <th>3</th>\n",
       "      <td>4.6</td>\n",
       "      <td>3.1</td>\n",
       "      <td>1.5</td>\n",
       "      <td>0.2</td>\n",
       "    </tr>\n",
       "    <tr>\n",
       "      <th>4</th>\n",
       "      <td>5.0</td>\n",
       "      <td>3.6</td>\n",
       "      <td>1.4</td>\n",
       "      <td>0.2</td>\n",
       "    </tr>\n",
       "  </tbody>\n",
       "</table>\n",
       "</div>"
      ],
      "text/plain": [
       "   Sepal_Length  Sepal_Width  Petal_Length  Petal_Width\n",
       "0           5.1          3.5           1.4          0.2\n",
       "1           4.9          3.0           1.4          0.2\n",
       "2           4.7          3.2           1.3          0.2\n",
       "3           4.6          3.1           1.5          0.2\n",
       "4           5.0          3.6           1.4          0.2"
      ]
     },
     "execution_count": 7,
     "metadata": {},
     "output_type": "execute_result"
    }
   ],
   "source": [
    "# Como cualquier modelo, siempre debemos tener nuestra matriz de diseño y nuestra variable de respuesta\n",
    "# Para este modelo de regresión logistica, no es necesario añadir la columna de 1\n",
    "#matriz_diseño = datos_iris.iloc[:, 2  ] # Covariables / Features\n",
    "matriz_diseño = datos_iris.iloc[:, 0:4  ] # Covariables / Features\n",
    "y_real        = datos_iris.iloc[:, 5  ] # Variable de respuesta / Response\n",
    "matriz_diseño.head()"
   ]
  },
  {
   "cell_type": "code",
   "execution_count": 8,
   "metadata": {
    "ExecuteTime": {
     "end_time": "2019-02-26T06:42:12.631401Z",
     "start_time": "2019-02-26T06:42:12.615801Z"
    }
   },
   "outputs": [
    {
     "name": "stdout",
     "output_type": "stream",
     "text": [
      "(150, 4)\n"
     ]
    }
   ],
   "source": [
    "# Es importante que la matriz de diseño sea bidimensional, es decir, sus dimesiones sean de la forma (x,y)\n",
    "print( matriz_diseño.shape )\n",
    "# Si unicamente seleccionamos una covariable, lo anterior nos regresa un objeto tipo 'Series' que unicamente\n",
    "# tiene una dimension. Para solucionarlo pueden redimensionarlo de la siguiente manera\n",
    "if len( matriz_diseño.shape ) == 1:\n",
    "    matriz_diseño = matriz_diseño.values.reshape( ( matriz_diseño.shape[0], 1 ) )\n",
    "    print( matriz_diseño.shape )"
   ]
  },
  {
   "cell_type": "markdown",
   "metadata": {},
   "source": [
    "## Creación del modelo"
   ]
  },
  {
   "cell_type": "code",
   "execution_count": 9,
   "metadata": {
    "ExecuteTime": {
     "end_time": "2019-02-26T06:42:12.662601Z",
     "start_time": "2019-02-26T06:42:12.631401Z"
    },
    "scrolled": true
   },
   "outputs": [
    {
     "data": {
      "text/plain": [
       "LogisticRegression(C=inf, class_weight=None, dual=False, fit_intercept=True,\n",
       "          intercept_scaling=1, max_iter=100, multi_class='ovr',\n",
       "          n_jobs=None, penalty='l2', random_state=None, solver='lbfgs',\n",
       "          tol=0.0001, verbose=0, warm_start=False)"
      ]
     },
     "execution_count": 9,
     "metadata": {},
     "output_type": "execute_result"
    }
   ],
   "source": [
    "# Creamos nuestro modelo llamando al constructor de clases, usamos los parámetros por defecto\n",
    "# Para ver los parametros que puede usar, colocamos el cursor entre los paréntesis y pulsamos Shift+Tab\n",
    "modelo_logistico = LogisticRegression( penalty=\"l2\", C=np.Inf, fit_intercept = True, solver = 'lbfgs', multi_class='ovr', max_iter = 100 )\n",
    "#modelo_logistico = LogisticRegression( penalty=\"l2\", C=1, fit_intercept = True, solver = 'liblinear', multi_class='ovr', max_iter = 100 )\n",
    "#modelo_logistico = LogisticRegression( penalty=\"l2\", C=1, fit_intercept = True, solver = 'lbfgs', multi_class='multinomial', max_iter = 300 )\n",
    "modelo_logistico.fit( matriz_diseño , y_real )"
   ]
  },
  {
   "cell_type": "code",
   "execution_count": 10,
   "metadata": {
    "ExecuteTime": {
     "end_time": "2019-02-26T06:42:12.677601Z",
     "start_time": "2019-02-26T06:42:12.665101Z"
    }
   },
   "outputs": [
    {
     "name": "stdout",
     "output_type": "stream",
     "text": [
      "B0:       [7.37846558]\n",
      "B1 a B4:  [[-0.24535745 -2.79656276  1.31365383 -2.77836927]]\n"
     ]
    }
   ],
   "source": [
    "# Mostramos las betas de nuestro modelo logístico\n",
    "print( \"B0:      \" , modelo_logistico.intercept_ )\n",
    "print( \"B1 a B4: \" , modelo_logistico.coef_ )"
   ]
  },
  {
   "cell_type": "code",
   "execution_count": 11,
   "metadata": {
    "ExecuteTime": {
     "end_time": "2019-02-26T06:42:12.807601Z",
     "start_time": "2019-02-26T06:42:12.682601Z"
    }
   },
   "outputs": [
    {
     "name": "stdout",
     "output_type": "stream",
     "text": [
      "Modelo_1\n",
      "                 Generalized Linear Model Regression Results                  \n",
      "==============================================================================\n",
      "Dep. Variable:               Species2   No. Observations:                  150\n",
      "Model:                            GLM   Df Residuals:                      145\n",
      "Model Family:                Binomial   Df Model:                            4\n",
      "Link Function:                  logit   Scale:                          1.0000\n",
      "Method:                          IRLS   Log-Likelihood:                -72.535\n",
      "Date:                Tue, 26 Feb 2019   Deviance:                       145.07\n",
      "Time:                        00:42:12   Pearson chi2:                     134.\n",
      "No. Iterations:                     5   Covariance Type:             nonrobust\n",
      "================================================================================\n",
      "                   coef    std err          z      P>|z|      [0.025      0.975]\n",
      "--------------------------------------------------------------------------------\n",
      "const            7.3785      2.499      2.952      0.003       2.480      12.277\n",
      "Sepal_Length    -0.2454      0.650     -0.378      0.706      -1.518       1.028\n",
      "Sepal_Width     -2.7966      0.784     -3.569      0.000      -4.332      -1.261\n",
      "Petal_Length     1.3136      0.684      1.921      0.055      -0.027       2.654\n",
      "Petal_Width     -2.7783      1.173     -2.368      0.018      -5.078      -0.479\n",
      "================================================================================\n",
      "Optimization terminated successfully.\n",
      "         Current function value: 0.483566\n",
      "         Iterations 6\n",
      "Modelo_2\n",
      "                           Logit Regression Results                           \n",
      "==============================================================================\n",
      "Dep. Variable:               Species2   No. Observations:                  150\n",
      "Model:                          Logit   Df Residuals:                      145\n",
      "Method:                           MLE   Df Model:                            4\n",
      "Date:                Tue, 26 Feb 2019   Pseudo R-squ.:                  0.2403\n",
      "Time:                        00:42:12   Log-Likelihood:                -72.535\n",
      "converged:                       True   LL-Null:                       -95.477\n",
      "                                        LLR p-value:                 2.603e-09\n",
      "================================================================================\n",
      "                   coef    std err          z      P>|z|      [0.025      0.975]\n",
      "--------------------------------------------------------------------------------\n",
      "const            7.3785      2.499      2.952      0.003       2.480      12.277\n",
      "Sepal_Length    -0.2454      0.650     -0.378      0.706      -1.518       1.028\n",
      "Sepal_Width     -2.7966      0.784     -3.569      0.000      -4.332      -1.261\n",
      "Petal_Length     1.3136      0.684      1.921      0.055      -0.027       2.654\n",
      "Petal_Width     -2.7783      1.173     -2.368      0.018      -5.078      -0.479\n",
      "================================================================================\n"
     ]
    }
   ],
   "source": [
    "# Como diría Big Javy de Inspector\n",
    "# \"... maestro, para ti y para toda la gente, lo clasico, lo de siempre, ....\" Statsmodels!!!\n",
    "# También podemos crear una regresión logistica con la biblioteca statsmodel. \n",
    "# Esta biblioteca nos apoya bastante en en resumen del modelo\n",
    "# Aqui si es necesario colocarle explicitamente la columna de 1 para el intercepto\n",
    "\n",
    "# Metodo 1 :: Como Modelo Lineal Generalizado\n",
    "modelo_logistico_sm = sm.GLM( y_real, sm.add_constant( matriz_diseño ), family=sm.families.Binomial() ).fit()\n",
    "print( \"Modelo_1\" )\n",
    "print( modelo_logistico_sm.summary() )\n",
    "\n",
    "# Metodo 2 :: Como nombre corto, ustilizar la función logistica (por métodos numéricos)\n",
    "modelo_logistico_sm = sm.Logit( y_real, sm.add_constant( matriz_diseño ) ).fit()\n",
    "print( \"Modelo_2\" )\n",
    "print( modelo_logistico_sm.summary() )\n",
    "\n",
    "# Vease que aunque se llegan a resultados iguales, ambos trabajan por metodos distintos."
   ]
  },
  {
   "cell_type": "code",
   "execution_count": 12,
   "metadata": {
    "ExecuteTime": {
     "end_time": "2019-02-26T06:42:12.832601Z",
     "start_time": "2019-02-26T06:42:12.812601Z"
    }
   },
   "outputs": [
    {
     "data": {
      "text/plain": [
       "array([0, 0, 0, 0, 0, 0, 0, 0, 0, 0, 0, 0, 0, 0, 0, 0, 0, 0, 0, 0, 0, 0,\n",
       "       0, 0, 0, 0, 0, 0, 0, 0, 0, 0, 0, 0, 0, 0, 0, 0, 0, 0, 0, 1, 0, 0,\n",
       "       0, 0, 0, 0, 0, 0, 0, 0, 0, 1, 0, 1, 0, 1, 1, 0, 1, 0, 1, 1, 0, 0,\n",
       "       0, 1, 1, 1, 0, 0, 1, 1, 0, 0, 1, 0, 0, 1, 1, 1, 1, 1, 0, 0, 0, 1,\n",
       "       0, 1, 1, 0, 1, 1, 1, 0, 0, 0, 1, 0, 0, 0, 0, 1, 0, 0, 1, 1, 1, 0,\n",
       "       0, 0, 0, 1, 0, 0, 0, 0, 1, 1, 0, 0, 1, 0, 0, 0, 0, 0, 0, 1, 1, 0,\n",
       "       0, 1, 1, 0, 0, 0, 0, 0, 0, 0, 0, 0, 0, 0, 1, 0, 0, 0], dtype=int64)"
      ]
     },
     "execution_count": 12,
     "metadata": {},
     "output_type": "execute_result"
    }
   ],
   "source": [
    "# En este punto, unicamente hemos creado nuestro clasificador/modelo\n",
    "# y lo hemos ajustado con base en los datos\n",
    "# Ahora vamos a calcular las y_estimada, es decir, la especie que está asignando el modelo\n",
    "y_estimada = modelo_logistico.predict( matriz_diseño )\n",
    "y_estimada"
   ]
  },
  {
   "cell_type": "code",
   "execution_count": 13,
   "metadata": {
    "ExecuteTime": {
     "end_time": "2019-02-26T06:42:12.852601Z",
     "start_time": "2019-02-26T06:42:12.837601Z"
    }
   },
   "outputs": [
    {
     "data": {
      "text/plain": [
       "array([[0.91508651, 0.08491349],\n",
       "       [0.71708192, 0.28291808],\n",
       "       [0.82801716, 0.17198284],\n",
       "       [0.73198486, 0.26801514],\n",
       "       [0.93292454, 0.06707546],\n",
       "       [0.97659667, 0.02340333],\n",
       "       [0.90489931, 0.09510069],\n",
       "       [0.87455285, 0.12544715],\n",
       "       [0.62894598, 0.37105402],\n",
       "       [0.69007857, 0.30992143]])"
      ]
     },
     "execution_count": 13,
     "metadata": {},
     "output_type": "execute_result"
    }
   ],
   "source": [
    "# Además de estimar el valor de la variable respuesta podemos calcular la probabilidad\n",
    "# de que se encuentre en dicha categoria\n",
    "proba_estimada = modelo_logistico.predict_proba( matriz_diseño )\n",
    "proba_estimada[ 0:10, :]"
   ]
  },
  {
   "cell_type": "markdown",
   "metadata": {},
   "source": [
    "## Métricas del modelo"
   ]
  },
  {
   "cell_type": "code",
   "execution_count": 14,
   "metadata": {
    "ExecuteTime": {
     "end_time": "2019-02-26T06:42:12.875101Z",
     "start_time": "2019-02-26T06:42:12.857601Z"
    }
   },
   "outputs": [
    {
     "data": {
      "text/plain": [
       "array([[86, 14],\n",
       "       [25, 25]], dtype=int64)"
      ]
     },
     "execution_count": 14,
     "metadata": {},
     "output_type": "execute_result"
    }
   ],
   "source": [
    "# Cuando tratamos un modelo de clasificación, es muy comun comparar nuestra clasificación con una matriz de confusión\n",
    "# Una matriz de confusión es, de una manera muy sencilla, una tabla de contigencia donde comparamos lo estimado vs lo real\n",
    "matriz_confusion = confusion_matrix( y_real, y_estimada )\n",
    "matriz_confusion"
   ]
  },
  {
   "cell_type": "code",
   "execution_count": 15,
   "metadata": {
    "ExecuteTime": {
     "end_time": "2019-02-26T06:42:12.921301Z",
     "start_time": "2019-02-26T06:42:12.880101Z"
    }
   },
   "outputs": [
    {
     "data": {
      "text/html": [
       "<div>\n",
       "<style scoped>\n",
       "    .dataframe tbody tr th:only-of-type {\n",
       "        vertical-align: middle;\n",
       "    }\n",
       "\n",
       "    .dataframe tbody tr th {\n",
       "        vertical-align: top;\n",
       "    }\n",
       "\n",
       "    .dataframe thead th {\n",
       "        text-align: right;\n",
       "    }\n",
       "</style>\n",
       "<table border=\"1\" class=\"dataframe\">\n",
       "  <thead>\n",
       "    <tr style=\"text-align: right;\">\n",
       "      <th>col_0</th>\n",
       "      <th>0</th>\n",
       "      <th>1</th>\n",
       "    </tr>\n",
       "    <tr>\n",
       "      <th>Species2</th>\n",
       "      <th></th>\n",
       "      <th></th>\n",
       "    </tr>\n",
       "  </thead>\n",
       "  <tbody>\n",
       "    <tr>\n",
       "      <th>0</th>\n",
       "      <td>86</td>\n",
       "      <td>14</td>\n",
       "    </tr>\n",
       "    <tr>\n",
       "      <th>1</th>\n",
       "      <td>25</td>\n",
       "      <td>25</td>\n",
       "    </tr>\n",
       "  </tbody>\n",
       "</table>\n",
       "</div>"
      ],
      "text/plain": [
       "col_0      0   1\n",
       "Species2        \n",
       "0         86  14\n",
       "1         25  25"
      ]
     },
     "execution_count": 15,
     "metadata": {},
     "output_type": "execute_result"
    }
   ],
   "source": [
    "pd.crosstab( index = y_real, columns = y_estimada )"
   ]
  },
  {
   "cell_type": "code",
   "execution_count": 16,
   "metadata": {
    "ExecuteTime": {
     "end_time": "2019-02-26T06:42:12.936901Z",
     "start_time": "2019-02-26T06:42:12.921301Z"
    }
   },
   "outputs": [
    {
     "data": {
      "text/plain": [
       "0.74"
      ]
     },
     "execution_count": 16,
     "metadata": {},
     "output_type": "execute_result"
    }
   ],
   "source": [
    "# La precisión (accuracy) del modelo es la suma de la diagonal entre la suma de toda la matriz de confusion\n",
    "( matriz_confusion[0,0] + matriz_confusion[1,1] ) / np.sum( matriz_confusion )"
   ]
  },
  {
   "cell_type": "markdown",
   "metadata": {},
   "source": [
    "## K-Fold Cross Validation"
   ]
  },
  {
   "cell_type": "code",
   "execution_count": 17,
   "metadata": {
    "ExecuteTime": {
     "end_time": "2019-02-26T06:42:12.946901Z",
     "start_time": "2019-02-26T06:42:12.941901Z"
    }
   },
   "outputs": [],
   "source": [
    "# Este paso usualmente es antes de realizar el modelo final, debido a que el objetivo de esto es la selección \n",
    "# de modelos. sin embargo, como unicamente estamos realizando un único modelo (Regresión Logística) \n",
    "# no es necesario.\n",
    "# Cuando se hagan varios modelos como Árboles de Decisión, KNN, Regresión Logística, SVM, LDA, etc...\n",
    "# Entonces es cuando más sobresale esta técnica."
   ]
  },
  {
   "cell_type": "code",
   "execution_count": 18,
   "metadata": {
    "ExecuteTime": {
     "end_time": "2019-02-26T06:42:13.211601Z",
     "start_time": "2019-02-26T06:42:12.959401Z"
    }
   },
   "outputs": [
    {
     "name": "stdout",
     "output_type": "stream",
     "text": [
      "Precisiones:  [0.46666667 0.8        0.8        0.46666667 0.66666667 0.93333333\n",
      " 0.8        0.73333333 0.73333333 0.8       ]\n",
      "Precisión puntual:  0.72\n"
     ]
    }
   ],
   "source": [
    "modelo_logistico = LogisticRegression( penalty=\"l2\", C=1, fit_intercept = True, solver = 'lbfgs', multi_class=\"multinomial\",  max_iter = 300)\n",
    "k_fold           = KFold(n_splits=10, shuffle=True, random_state=0)\n",
    "score            = cross_val_score( modelo_logistico, matriz_diseño, y_real, cv=k_fold, n_jobs=1, scoring=\"accuracy\")\n",
    "\n",
    "print( \"Precisiones: \",       score )\n",
    "print( \"Precisión puntual: \", np.mean(score) )"
   ]
  }
 ],
 "metadata": {
  "hide_input": false,
  "kernelspec": {
   "display_name": "Python 3",
   "language": "python",
   "name": "python3"
  },
  "language_info": {
   "codemirror_mode": {
    "name": "ipython",
    "version": 3
   },
   "file_extension": ".py",
   "mimetype": "text/x-python",
   "name": "python",
   "nbconvert_exporter": "python",
   "pygments_lexer": "ipython3",
   "version": "3.7.1"
  },
  "varInspector": {
   "cols": {
    "lenName": 16,
    "lenType": 16,
    "lenVar": 40
   },
   "kernels_config": {
    "python": {
     "delete_cmd_postfix": "",
     "delete_cmd_prefix": "del ",
     "library": "var_list.py",
     "varRefreshCmd": "print(var_dic_list())"
    },
    "r": {
     "delete_cmd_postfix": ") ",
     "delete_cmd_prefix": "rm(",
     "library": "var_list.r",
     "varRefreshCmd": "cat(var_dic_list()) "
    }
   },
   "types_to_exclude": [
    "module",
    "function",
    "builtin_function_or_method",
    "instance",
    "_Feature"
   ],
   "window_display": false
  }
 },
 "nbformat": 4,
 "nbformat_minor": 2
}
