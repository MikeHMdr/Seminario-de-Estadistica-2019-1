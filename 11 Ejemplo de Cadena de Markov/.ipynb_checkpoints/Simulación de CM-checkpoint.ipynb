{
 "cells": [
  {
   "cell_type": "markdown",
   "metadata": {},
   "source": [
    "# Simulación Cadenas de Markov"
   ]
  },
  {
   "cell_type": "markdown",
   "metadata": {},
   "source": [
    "### Ejemplo 1"
   ]
  },
  {
   "cell_type": "markdown",
   "metadata": {},
   "source": [
    "Una empresa esta considerando utilizar Cadenas de Markov para analizar los cambios en las preferencias de los usuarios por tres marcas distintas de un determinado producto. El estudio ha arrojado la siguiente estimación de la matriz de probabilidades de cambiarse de una marca a otra cada mes:\n",
    "\n",
    "| 0  | 1    | 2    | 3    |\n",
    "|---|------|------|------| \n",
    "| 1 | 0.80 | 0.10 | 0.10 |\n",
    "| 2 | 0.03 | 0.95 | 0.02 |\n",
    "| 3 | 0.20 | 0.05 | 0.75 |\n",
    "\n",
    "Si en la actualidad la participación de mercado es de 45%, 25% y 30%, respectivamente. \n",
    "\n",
    "¿Cuales serán las participaciones de mercado de cada marca en dos meses más?."
   ]
  },
  {
   "cell_type": "code",
   "execution_count": 1,
   "metadata": {
    "ExecuteTime": {
     "end_time": "2019-04-06T00:42:16.794774Z",
     "start_time": "2019-04-06T00:42:16.792274Z"
    }
   },
   "outputs": [],
   "source": [
    "# bibliotecas\n",
    "import numpy        as np  # Funciones vectoriales\n",
    "import scipy.linalg as la  # Funciones de algebra lineal"
   ]
  },
  {
   "cell_type": "code",
   "execution_count": 2,
   "metadata": {
    "ExecuteTime": {
     "end_time": "2019-04-06T00:42:17.709874Z",
     "start_time": "2019-04-06T00:42:17.682374Z"
    }
   },
   "outputs": [
    {
     "name": "stdout",
     "output_type": "stream",
     "text": [
      "Distribución Inicial < Dimensiones = (1, 3) >\n",
      "[[0.45 0.25 0.3 ]]\n",
      "\n",
      "Matriz de Transición < Dimensiones = (3, 3) >\n",
      "[[0.8  0.1  0.1 ]\n",
      " [0.03 0.95 0.02]\n",
      " [0.2  0.05 0.75]]\n"
     ]
    }
   ],
   "source": [
    "# Generamos nuestras variables\n",
    "distribucion_inicial = np.matrix( np.array([0.45, 0.25, 0.30]) )\n",
    "matriz_transicion    = np.matrix( np.array([[0.80,0.10,0.10],[0.03,0.95,0.02],[0.20,0.05,0.75]],dtype=np.float64) )\n",
    "print(\"Distribución Inicial < Dimensiones =\", distribucion_inicial.shape , \">\" )\n",
    "print(distribucion_inicial)\n",
    "\n",
    "print(\"\")\n",
    "print(\"Matriz de Transición < Dimensiones =\", matriz_transicion.shape , \">\" )\n",
    "print(matriz_transicion)"
   ]
  },
  {
   "cell_type": "code",
   "execution_count": 3,
   "metadata": {
    "ExecuteTime": {
     "end_time": "2019-04-06T00:44:23.098776Z",
     "start_time": "2019-04-06T00:44:23.096276Z"
    }
   },
   "outputs": [
    {
     "name": "stdout",
     "output_type": "stream",
     "text": [
      "Distribución en el paso n = 12 es [[0.28043 0.55006 0.16951]]\n"
     ]
    }
   ],
   "source": [
    "# Una forma de tener la distribucion estacional es unicamente ir multiplicando\n",
    "# la distribucion inicial por la matriz de transicion\n",
    "paso_n = 13\n",
    "distribucion_estacional = distribucion_inicial\n",
    "for sim in range(paso_n-1):\n",
    "    distribucion_estacional = distribucion_estacional * matriz_transicion\n",
    "    #print(\"Sim :: \", sim,  np.round( distribucion_estacional, 5 ) )\n",
    "    #print(np.sum(distribucion_estacional))\n",
    "    \n",
    "print(\"Distribución en el paso n =\", paso_n - 1, \"es\",  np.round( distribucion_estacional, 5 ) )"
   ]
  },
  {
   "cell_type": "markdown",
   "metadata": {},
   "source": [
    "### Ejemplo 2"
   ]
  },
  {
   "cell_type": "markdown",
   "metadata": {},
   "source": [
    "Supongamos que introducimos un ratón de forma aleatoria en una de las celdas de dicho laberinto.\n",
    "\n",
    "![Laberinto](laberinto.JPG)\n",
    "\n",
    "Sea $X_n$ = celda ocupada en el minuto $n$\n",
    "\n",
    "Además, supongamos que la probabilidad inicial de empezar en cualquier celda es la misma.\n",
    "\n",
    "Tenemos que la matriz de transición T como la siguiente\n",
    "\n",
    "![Matriz de Transición](matriz_transicion.JPG)\n",
    "\n",
    "Se desea averiguar cual es la probabilidad de que dejando pasar muchos minutos, el ratón se encuentre en cada una de las celdas."
   ]
  },
  {
   "cell_type": "code",
   "execution_count": 4,
   "metadata": {
    "ExecuteTime": {
     "end_time": "2019-04-06T00:51:59.083275Z",
     "start_time": "2019-04-06T00:51:59.080775Z"
    }
   },
   "outputs": [
    {
     "name": "stdout",
     "output_type": "stream",
     "text": [
      "Distribución Inicial:\n",
      "[[0.1667 0.1667 0.1667 0.1667 0.1667 0.1667]]\n",
      "\n",
      "Matriz de transición:\n",
      "[[0.3333 0.3333 0.     0.3333 0.     0.    ]\n",
      " [0.5    0.5    0.     0.     0.     0.    ]\n",
      " [0.     0.     0.5    0.     0.     0.5   ]\n",
      " [0.5    0.     0.     0.5    0.     0.    ]\n",
      " [0.     0.     0.     0.     0.5    0.5   ]\n",
      " [0.     0.     0.3333 0.     0.3333 0.3333]]\n"
     ]
    }
   ],
   "source": [
    "# Creamos nuestra variable con la probabilidad inicial\n",
    "distribucion_inicial = np.matrix( np.array( [1/6,1/6,1/6,1/6,1/6,1/6]))\n",
    "matriz_transicion    = np.matrix( np.array([[1/3, 1/3, 0, 1/3, 0, 0],\n",
    "                                           [1/2, 1/2, 0, 0, 0, 0],\n",
    "                                           [0, 0, 1/2, 0, 0, 1/2],\n",
    "                                           [1/2, 0, 0, 1/2, 0, 0],\n",
    "                                           [0, 0, 0, 0, 1/2, 1/2],\n",
    "                                           [0, 0, 1/3, 0, 1/3, 1/3]] ) )\n",
    "\n",
    "print(\"Distribución Inicial:\")\n",
    "print( np.round( distribucion_inicial, 4 ) )\n",
    "print(\"\")\n",
    "print(\"Matriz de transición:\")\n",
    "print( np.round( matriz_transicion, 4 ) )"
   ]
  },
  {
   "cell_type": "code",
   "execution_count": 5,
   "metadata": {
    "ExecuteTime": {
     "end_time": "2019-04-06T00:56:19.101948Z",
     "start_time": "2019-04-06T00:56:19.084448Z"
    },
    "scrolled": true
   },
   "outputs": [
    {
     "name": "stdout",
     "output_type": "stream",
     "text": [
      "Matriz de Verificación\n",
      "[[ 0.3333  0.3333  0.      0.3333  0.      0.    ]\n",
      " [ 0.5     0.5     0.     -0.      0.      0.    ]\n",
      " [ 0.      0.      0.5     0.     -0.      0.5   ]\n",
      " [ 0.5    -0.      0.      0.5     0.      0.    ]\n",
      " [ 0.      0.     -0.      0.      0.5     0.5   ]\n",
      " [ 0.      0.      0.3333  0.      0.3333  0.3333]]\n",
      "\n",
      "Verificación Entrada por entrada\n",
      "[[ True  True  True  True  True  True]\n",
      " [ True  True  True  True  True  True]\n",
      " [ True  True  True  True  True  True]\n",
      " [ True  True  True  True  True  True]\n",
      " [ True  True  True  True  True  True]\n",
      " [ True  True  True  True  True  True]]\n"
     ]
    }
   ],
   "source": [
    "# Descomposicion de la matriz de Transición T = C * A * C^-1\n",
    "A, C = la.eig( matriz_transicion )        # Realizamos la descomposición\n",
    "A    = np.matrix(np.diag(A)).real         # La transformamos a una matriz cuadrada\n",
    "C    = np.matrix(C)                       # La transformamos a una matriz cuadrada\n",
    "matriz_verificacion = C * A * la.inv(C)   # Realizamos la multiplicación para verificación\n",
    "print(\"Matriz de Verificación\")\n",
    "print( np.round( matriz_verificacion, 4)  )\n",
    "print(\"\")\n",
    "print(\"Verificación Entrada por entrada\")\n",
    "print( np.abs( matriz_verificacion - matriz_transicion ) < 1E-15 ) \n"
   ]
  },
  {
   "cell_type": "code",
   "execution_count": 6,
   "metadata": {
    "ExecuteTime": {
     "end_time": "2019-04-06T01:00:07.786969Z",
     "start_time": "2019-04-06T01:00:07.774469Z"
    },
    "scrolled": true
   },
   "outputs": [
    {
     "name": "stdout",
     "output_type": "stream",
     "text": [
      "Distribución en el paso n:\n",
      "[[0.2143 0.1429 0.1429 0.1429 0.1429 0.2143]]\n",
      "\n",
      "Matriz de transicion en el paso n:\n",
      "[[0.4286 0.2857 0.     0.2857 0.     0.    ]\n",
      " [0.4286 0.2857 0.     0.2857 0.     0.    ]\n",
      " [0.     0.     0.2857 0.     0.2857 0.4286]\n",
      " [0.4286 0.2857 0.     0.2857 0.     0.    ]\n",
      " [0.     0.     0.2857 0.     0.2857 0.4286]\n",
      " [0.     0.     0.2857 0.     0.2857 0.4286]]\n"
     ]
    }
   ],
   "source": [
    "n = 20\n",
    "matriz_trans_paso_n = C * A** n * la.inv(C)\n",
    "distribucion_paso_n = distribucion_inicial * matriz_trans_paso_n\n",
    "\n",
    "print(\"Distribución en el paso n:\")\n",
    "print( np.round( distribucion_paso_n, 4 ) )\n",
    "print(\"\")\n",
    "print(\"Matriz de transicion en el paso n:\")\n",
    "print( np.round( matriz_trans_paso_n, 4) )"
   ]
  },
  {
   "cell_type": "code",
   "execution_count": 7,
   "metadata": {
    "ExecuteTime": {
     "end_time": "2019-04-06T01:00:25.526874Z",
     "start_time": "2019-04-06T01:00:25.506874Z"
    },
    "scrolled": true
   },
   "outputs": [
    {
     "name": "stdout",
     "output_type": "stream",
     "text": [
      "Iteración ::  1\n",
      "Iteración ::  2\n",
      "Iteración ::  3\n",
      "Iteración ::  4\n",
      "Iteración ::  5\n",
      "Iteración ::  6\n",
      "Iteración ::  7\n",
      "Iteración ::  8\n",
      "Iteración ::  9\n",
      "Iteración ::  10\n",
      "Iteración ::  11\n",
      "Iteración ::  12\n",
      "\n",
      "Distribución Estacionaria:  [[0.2143 0.1429 0.1429 0.1429 0.1429 0.2143]]\n",
      "La Distribución Estacionaria se alcanza en el paso N =  12\n"
     ]
    }
   ],
   "source": [
    "# Super método infalibre para encontrar la distribución estacionaria sin tanteo \n",
    "tolerancia   = 1E-10           # tolerancia/diferencias que permitimos que cambie entre un paso y otro\n",
    "diferencias  = 1               # variable que me indica la diferencia entre un paso y otro\n",
    "iter_maximas = 100             # numero de iteraciones maximas que le permitimos al algoritmo en caso de no converguer\n",
    "iteracion    = 0               # variable que me indica la cantidad de iteraciones que lleva el algoritmo\n",
    "\n",
    "# Inicio del algoritmo\n",
    "distribucion_estacionaria = distribucion_inicial\n",
    "while np.all( diferencias > tolerancia ) and iteracion <= iter_maximas:\n",
    "    iteracion   = iteracion + 1\n",
    "    diferencias = np.abs( distribucion_estacionaria * matriz_transicion -  distribucion_estacionaria )\n",
    "    distribucion_estacionaria = distribucion_estacionaria * matriz_transicion \n",
    "    print(\"Iteración :: \", iteracion)\n",
    "    #print( np.round(diferencias,7) )\n",
    "\n",
    "print(\"\")\n",
    "print(\"Distribución Estacionaria: \", np.round( distribucion_estacionaria,4 ) )\n",
    "print(\"La Distribución Estacionaria se alcanza en el paso N = \", iteracion  )"
   ]
  },
  {
   "cell_type": "markdown",
   "metadata": {},
   "source": [
    "Ahora imaginemos que existe una celda número 7 (estado = 7) que es la salida del laberinto, y que al salir del laberinto, el ratón ya no regresa al mismo.\n",
    "\n",
    "Entonces, podemos pensar que el estado = 7 es un estado absorbente.\n",
    "\n",
    "La pregunta natural que nos podemos hacer es, ¿Cuántos minutos en promedio tardará el ratón en salir del laberinto?"
   ]
  },
  {
   "cell_type": "code",
   "execution_count": 8,
   "metadata": {
    "ExecuteTime": {
     "end_time": "2019-04-06T01:04:50.108287Z",
     "start_time": "2019-04-06T01:04:50.080786Z"
    },
    "scrolled": false
   },
   "outputs": [
    {
     "name": "stdout",
     "output_type": "stream",
     "text": [
      "Distribución Inicial:\n",
      "[[0.1667 0.1667 0.1667 0.1667 0.1667 0.1667 0.    ]]\n",
      "\n",
      "Matriz de transición:\n",
      "[[0.3333 0.3333 0.     0.3333 0.     0.     0.    ]\n",
      " [0.5    0.5    0.     0.     0.     0.     0.    ]\n",
      " [0.     0.     0.5    0.     0.     0.5    0.    ]\n",
      " [0.5    0.     0.     0.5    0.     0.     0.    ]\n",
      " [0.     0.     0.     0.     0.3333 0.3333 0.3333]\n",
      " [0.     0.     0.3333 0.     0.3333 0.3333 0.    ]\n",
      " [0.     0.     0.     0.     0.     0.     1.    ]]\n"
     ]
    }
   ],
   "source": [
    "# Creamos nuestra variable con la probabilidad inicial\n",
    "distribucion_inicial = np.matrix( np.array( [1/6,1/6,1/6,1/6,1/6,1/6, 0]))\n",
    "matriz_transicion    = np.matrix( np.array([[1/3, 1/3, 0, 1/3, 0, 0,0],\n",
    "                                           [1/2, 1/2, 0, 0, 0, 0,0],\n",
    "                                           [0, 0, 1/2, 0, 0, 1/2,0],\n",
    "                                           [1/2, 0, 0, 1/2, 0, 0,0],\n",
    "                                           [0, 0, 0, 0, 1/3, 1/3,1/3],\n",
    "                                           [0, 0, 1/3, 0, 1/3, 1/3,0],\n",
    "                                           [0, 0, 0, 0, 0, 0, 1]] ) )\n",
    "\n",
    "print(\"Distribución Inicial:\")\n",
    "print( np.round( distribucion_inicial, 4 ) )\n",
    "print(\"\")\n",
    "print(\"Matriz de transición:\")\n",
    "print( np.round( matriz_transicion, 4 ) )\n"
   ]
  },
  {
   "cell_type": "code",
   "execution_count": 9,
   "metadata": {
    "ExecuteTime": {
     "end_time": "2019-04-06T01:04:51.510019Z",
     "start_time": "2019-04-06T01:04:51.497519Z"
    }
   },
   "outputs": [
    {
     "name": "stdout",
     "output_type": "stream",
     "text": [
      "Matriz de Verificación\n",
      "[[ 0.3333  0.3333  0.      0.3333  0.      0.      0.    ]\n",
      " [ 0.5     0.5     0.     -0.      0.      0.      0.    ]\n",
      " [ 0.      0.      0.5     0.     -0.      0.5     0.    ]\n",
      " [ 0.5    -0.      0.      0.5     0.      0.      0.    ]\n",
      " [ 0.      0.     -0.      0.      0.3333  0.3333  0.3333]\n",
      " [ 0.      0.      0.3333  0.      0.3333  0.3333  0.    ]\n",
      " [ 0.      0.      0.      0.      0.      0.      1.    ]]\n",
      "\n",
      "Verificación Entrada por entrada\n",
      "[[ True  True  True  True  True  True  True]\n",
      " [ True  True  True  True  True  True  True]\n",
      " [ True  True  True  True  True  True  True]\n",
      " [ True  True  True  True  True  True  True]\n",
      " [ True  True  True  True  True  True  True]\n",
      " [ True  True  True  True  True  True  True]\n",
      " [ True  True  True  True  True  True  True]]\n"
     ]
    }
   ],
   "source": [
    "# Descomposicion de la matriz de Transición T = C * A * C^-1\n",
    "A, C = la.eig( matriz_transicion )        # Realizamos la descomposición\n",
    "A    = np.matrix(np.diag(A)).real         # La transformamos a una matriz cuadrada\n",
    "C    = np.matrix(C)                       # La transformamos a una matriz cuadrada\n",
    "matriz_verificacion = C * A * la.inv(C)   # Realizamos la multiplicación para verificación\n",
    "print(\"Matriz de Verificación\")\n",
    "print( np.round( matriz_verificacion, 4)  )\n",
    "print(\"\")\n",
    "print(\"Verificación Entrada por entrada\")\n",
    "print( np.abs( matriz_verificacion - matriz_transicion ) < 1E-15 ) "
   ]
  },
  {
   "cell_type": "code",
   "execution_count": 10,
   "metadata": {
    "ExecuteTime": {
     "end_time": "2019-04-06T01:04:53.339857Z",
     "start_time": "2019-04-06T01:04:53.324857Z"
    }
   },
   "outputs": [
    {
     "name": "stdout",
     "output_type": "stream",
     "text": [
      "Distribución en el paso n:\n",
      "[[0.2143 0.1429 0.     0.1429 0.     0.     0.5   ]]\n",
      "\n",
      "Matriz de transicion en el paso n:\n",
      "[[0.4 0.3 0.  0.3 0.  0.  0. ]\n",
      " [0.4 0.3 0.  0.3 0.  0.  0. ]\n",
      " [0.  0.  0.  0.  0.  0.  1. ]\n",
      " [0.4 0.3 0.  0.3 0.  0.  0. ]\n",
      " [0.  0.  0.  0.  0.  0.  1. ]\n",
      " [0.  0.  0.  0.  0.  0.  1. ]\n",
      " [0.  0.  0.  0.  0.  0.  1. ]]\n"
     ]
    }
   ],
   "source": [
    "n = 1000\n",
    "matriz_trans_paso_n = C * A** n * la.inv(C)\n",
    "distribucion_paso_n = distribucion_inicial * matriz_trans_paso_n\n",
    "\n",
    "print(\"Distribución en el paso n:\")\n",
    "print( np.round( distribucion_paso_n, 4 ) )\n",
    "print(\"\")\n",
    "print(\"Matriz de transicion en el paso n:\")\n",
    "print( np.round( matriz_trans_paso_n, 1) )"
   ]
  },
  {
   "cell_type": "code",
   "execution_count": 11,
   "metadata": {
    "ExecuteTime": {
     "end_time": "2019-04-06T01:04:54.301084Z",
     "start_time": "2019-04-06T01:04:54.273583Z"
    }
   },
   "outputs": [
    {
     "name": "stdout",
     "output_type": "stream",
     "text": [
      "Iteración ::  1\n",
      "Iteración ::  2\n",
      "Iteración ::  3\n",
      "Iteración ::  4\n",
      "Iteración ::  5\n",
      "Iteración ::  6\n",
      "Iteración ::  7\n",
      "Iteración ::  8\n",
      "Iteración ::  9\n",
      "Iteración ::  10\n",
      "Iteración ::  11\n",
      "Iteración ::  12\n",
      "\n",
      "Distribución Estacionaria:  [[0.2143 0.1429 0.059  0.1429 0.0423 0.0743 0.3244]]\n",
      "La Distribución Estacionaria se alcanza en el paso N =  12\n"
     ]
    }
   ],
   "source": [
    "# Super método infalibre para encontrar la distribución estacionaria sin tanteo \n",
    "tolerancia   = 1E-10           # tolerancia/diferencias que permitimos que cambie entre un paso y otro\n",
    "diferencias  = 1               # variable que me indica la diferencia entre un paso y otro\n",
    "iter_maximas = 100             # numero de iteraciones maximas que le permitimos al algoritmo en caso de no converguer\n",
    "iteracion    = 0               # variable que me indica la cantidad de iteraciones que lleva el algoritmo\n",
    "\n",
    "# Inicio del algoritmo\n",
    "distribucion_estacionaria = distribucion_inicial\n",
    "while np.all( diferencias > tolerancia ) and iteracion <= iter_maximas:\n",
    "    iteracion   = iteracion + 1\n",
    "    diferencias = np.abs( distribucion_estacionaria * matriz_transicion -  distribucion_estacionaria )\n",
    "    distribucion_estacionaria = distribucion_estacionaria * matriz_transicion \n",
    "    print(\"Iteración :: \", iteracion)\n",
    "    #print( np.round(diferencias,7) )\n",
    "\n",
    "print(\"\")\n",
    "print(\"Distribución Estacionaria: \", np.round( distribucion_estacionaria,4 ) )\n",
    "print(\"La Distribución Estacionaria se alcanza en el paso N = \", iteracion  )"
   ]
  }
 ],
 "metadata": {
  "hide_input": false,
  "kernelspec": {
   "display_name": "Python 3",
   "language": "python",
   "name": "python3"
  },
  "language_info": {
   "codemirror_mode": {
    "name": "ipython",
    "version": 3
   },
   "file_extension": ".py",
   "mimetype": "text/x-python",
   "name": "python",
   "nbconvert_exporter": "python",
   "pygments_lexer": "ipython3",
   "version": "3.7.3"
  },
  "varInspector": {
   "cols": {
    "lenName": 16,
    "lenType": 16,
    "lenVar": 40
   },
   "kernels_config": {
    "python": {
     "delete_cmd_postfix": "",
     "delete_cmd_prefix": "del ",
     "library": "var_list.py",
     "varRefreshCmd": "print(var_dic_list())"
    },
    "r": {
     "delete_cmd_postfix": ") ",
     "delete_cmd_prefix": "rm(",
     "library": "var_list.r",
     "varRefreshCmd": "cat(var_dic_list()) "
    }
   },
   "types_to_exclude": [
    "module",
    "function",
    "builtin_function_or_method",
    "instance",
    "_Feature"
   ],
   "window_display": false
  }
 },
 "nbformat": 4,
 "nbformat_minor": 2
}
